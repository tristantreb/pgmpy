{
 "cells": [
  {
   "cell_type": "markdown",
   "id": "f2a808a9",
   "metadata": {},
   "source": [
    "# Causal Inference Examples"
   ]
  },
  {
   "cell_type": "markdown",
   "id": "eb72ccd0",
   "metadata": {},
   "source": [
    "## Simpson's paradox"
   ]
  },
  {
   "cell_type": "code",
   "execution_count": 1,
   "id": "97133256",
   "metadata": {},
   "outputs": [],
   "source": [
    "from pgmpy.models import DiscreteBayesianNetwork\n",
    "from pgmpy.inference import VariableElimination\n",
    "from pgmpy.factors.discrete import TabularCPD\n",
    "from pgmpy.inference import CausalInference\n",
    "\n",
    "from pgmpy.global_vars import config\n",
    "config.set_backend('numpy')"
   ]
  },
  {
   "cell_type": "markdown",
   "id": "ae5e7e98",
   "metadata": {},
   "source": [
    "### Model Definition"
   ]
  },
  {
   "cell_type": "code",
   "execution_count": 2,
   "id": "20fbce7e",
   "metadata": {},
   "outputs": [
    {
     "data": {
      "text/plain": [
       "<Axes: >"
      ]
     },
     "execution_count": 2,
     "metadata": {},
     "output_type": "execute_result"
    },
    {
     "data": {
      "image/png": "[encoded data removed]",
      "text/plain": [
       "<Figure size 212.598x133.858 with 1 Axes>"
      ]
     },
     "metadata": {},
     "output_type": "display_data"
    }
   ],
   "source": [
    "simp_model = DiscreteBayesianNetwork([(\"S\", \"T\"), (\"T\", \"C\"), (\"S\", \"C\")])\n",
    "simp_model.to_daft(node_pos={\"T\": (0, 0), \"C\": (2, 0), \"S\": (1, 1)}).render()"
   ]
  },
  {
   "cell_type": "code",
   "execution_count": 3,
   "id": "0f3d089a",
   "metadata": {},
   "outputs": [],
   "source": [
    "cpd_s = TabularCPD(\n",
    "    variable=\"S\", variable_card=2, values=[[0.5], [0.5]], state_names={\"S\": [\"m\", \"f\"]}\n",
    ")\n",
    "cpd_t = TabularCPD(\n",
    "    variable=\"T\",\n",
    "    variable_card=2,\n",
    "    values=[[0.25, 0.75], [0.75, 0.25]],\n",
    "    evidence=[\"S\"],\n",
    "    evidence_card=[2],\n",
    "    state_names={\"S\": [\"m\", \"f\"], \"T\": [0, 1]},\n",
    ")\n",
    "cpd_c = TabularCPD(\n",
    "    variable=\"C\",\n",
    "    variable_card=2,\n",
    "    values=[[0.3, 0.4, 0.7, 0.8], [0.7, 0.6, 0.3, 0.2]],\n",
    "    evidence=[\"S\", \"T\"],\n",
    "    evidence_card=[2, 2],\n",
    "    state_names={\"S\": [\"m\", \"f\"], \"T\": [0, 1], \"C\": [0, 1]},\n",
    ")\n",
    "\n",
    "simp_model.add_cpds(cpd_s, cpd_t, cpd_c)"
   ]
  },
  {
   "cell_type": "markdown",
   "id": "84d92614",
   "metadata": {},
   "source": [
    "### Inference conditioning on T"
   ]
  },
  {
   "cell_type": "code",
   "execution_count": 4,
   "id": "fc163a22",
   "metadata": {},
   "outputs": [
    {
     "name": "stdout",
     "output_type": "stream",
     "text": [
      "+------+----------+\n",
      "| C    |   phi(C) |\n",
      "+======+==========+\n",
      "| C(0) |   0.5000 |\n",
      "+------+----------+\n",
      "| C(1) |   0.5000 |\n",
      "+------+----------+\n",
      "+------+----------+\n",
      "| C    |   phi(C) |\n",
      "+======+==========+\n",
      "| C(0) |   0.6000 |\n",
      "+------+----------+\n",
      "| C(1) |   0.4000 |\n",
      "+------+----------+\n"
     ]
    }
   ],
   "source": [
    "# Non adjusted inference\n",
    "infer_non_adjust = VariableElimination(simp_model)\n",
    "print(infer_non_adjust.query(variables=[\"C\"], evidence={\"T\": 1}))\n",
    "print(infer_non_adjust.query(variables=[\"C\"], evidence={\"T\": 0}))"
   ]
  },
  {
   "cell_type": "markdown",
   "id": "af285fcc",
   "metadata": {},
   "source": [
    "### Inference with do-operation on T"
   ]
  },
  {
   "cell_type": "code",
   "execution_count": 5,
   "id": "9b2d4fa7",
   "metadata": {},
   "outputs": [
    {
     "data": {
      "application/vnd.jupyter.widget-view+json": {
       "model_id": "fea98572519f409e9bbfd71af224f9d1",
       "version_major": 2,
       "version_minor": 0
      },
      "text/plain": [
       "  0%|          | 0/2 [00:00<?, ?it/s]"
      ]
     },
     "metadata": {},
     "output_type": "display_data"
    },
    {
     "name": "stdout",
     "output_type": "stream",
     "text": [
      "+------+----------+\n",
      "| C    |   phi(C) |\n",
      "+======+==========+\n",
      "| C(0) |   0.6000 |\n",
      "+------+----------+\n",
      "| C(1) |   0.4000 |\n",
      "+------+----------+\n"
     ]
    },
    {
     "data": {
      "application/vnd.jupyter.widget-view+json": {
       "model_id": "aaf5a9e319534645be3d4ab1bb01b954",
       "version_major": 2,
       "version_minor": 0
      },
      "text/plain": [
       "  0%|          | 0/2 [00:00<?, ?it/s]"
      ]
     },
     "metadata": {},
     "output_type": "display_data"
    },
    {
     "name": "stdout",
     "output_type": "stream",
     "text": [
      "+------+----------+\n",
      "| C    |   phi(C) |\n",
      "+======+==========+\n",
      "| C(0) |   0.5000 |\n",
      "+------+----------+\n",
      "| C(1) |   0.5000 |\n",
      "+------+----------+\n"
     ]
    }
   ],
   "source": [
    "infer_adjusted = CausalInference(simp_model)\n",
    "print(infer_adjusted.query(variables=[\"C\"], do={\"T\": 1}))\n",
    "print(infer_adjusted.query(variables=[\"C\"], do={\"T\": 0}))"
   ]
  },
  {
   "cell_type": "markdown",
   "id": "64b87d7b",
   "metadata": {},
   "source": [
    "## Specifying adjustment sets"
   ]
  },
  {
   "cell_type": "code",
   "execution_count": 6,
   "id": "8b924b5d",
   "metadata": {},
   "outputs": [
    {
     "data": {
      "text/plain": [
       "<Axes: >"
      ]
     },
     "execution_count": 6,
     "metadata": {},
     "output_type": "execute_result"
    },
    {
     "data": {
      "image/png": "[encoded data removed]",
      "text/plain": [
       "<Figure size 212.598x212.598 with 1 Axes>"
      ]
     },
     "metadata": {},
     "output_type": "display_data"
    }
   ],
   "source": [
    "model = DiscreteBayesianNetwork([(\"X\", \"Y\"), (\"Z\", \"X\"), (\"Z\", \"W\"), (\"W\", \"Y\")])\n",
    "cpd_z = TabularCPD(variable=\"Z\", variable_card=2, values=[[0.2], [0.8]])\n",
    "\n",
    "cpd_x = TabularCPD(\n",
    "    variable=\"X\",\n",
    "    variable_card=2,\n",
    "    values=[[0.1, 0.3], [0.9, 0.7]],\n",
    "    evidence=[\"Z\"],\n",
    "    evidence_card=[2],\n",
    ")\n",
    "\n",
    "cpd_w = TabularCPD(\n",
    "    variable=\"W\",\n",
    "    variable_card=2,\n",
    "    values=[[0.2, 0.9], [0.8, 0.1]],\n",
    "    evidence=[\"Z\"],\n",
    "    evidence_card=[2],\n",
    ")\n",
    "\n",
    "cpd_y = TabularCPD(\n",
    "    variable=\"Y\",\n",
    "    variable_card=2,\n",
    "    values=[[0.3, 0.4, 0.7, 0.8], [0.7, 0.6, 0.3, 0.2]],\n",
    "    evidence=[\"X\", \"W\"],\n",
    "    evidence_card=[2, 2],\n",
    ")\n",
    "\n",
    "model.add_cpds(cpd_z, cpd_x, cpd_w, cpd_y)\n",
    "\n",
    "model.to_daft(node_pos={\"X\": (0, 0), \"Y\": (2, 0), \"Z\": (0, 2), \"W\": (2, 2)}).render()"
   ]
  },
  {
   "cell_type": "code",
   "execution_count": 7,
   "id": "c0b2e092",
   "metadata": {},
   "outputs": [
    {
     "data": {
      "application/vnd.jupyter.widget-view+json": {
       "model_id": "4d27b4747594458a9af3de6436e200aa",
       "version_major": 2,
       "version_minor": 0
      },
      "text/plain": [
       "  0%|          | 0/2 [00:00<?, ?it/s]"
      ]
     },
     "metadata": {},
     "output_type": "display_data"
    },
    {
     "name": "stdout",
     "output_type": "stream",
     "text": [
      "+------+----------+\n",
      "| Y    |   phi(Y) |\n",
      "+======+==========+\n",
      "| Y(0) |   0.7240 |\n",
      "+------+----------+\n",
      "| Y(1) |   0.2760 |\n",
      "+------+----------+\n"
     ]
    },
    {
     "data": {
      "application/vnd.jupyter.widget-view+json": {
       "model_id": "0bacb77a09974680996d73597812db92",
       "version_major": 2,
       "version_minor": 0
      },
      "text/plain": [
       "  0%|          | 0/2 [00:00<?, ?it/s]"
      ]
     },
     "metadata": {},
     "output_type": "display_data"
    },
    {
     "name": "stdout",
     "output_type": "stream",
     "text": [
      "+------+----------+\n",
      "| Y    |   phi(Y) |\n",
      "+======+==========+\n",
      "| Y(0) |   0.7240 |\n",
      "+------+----------+\n",
      "| Y(1) |   0.2760 |\n",
      "+------+----------+\n"
     ]
    },
    {
     "data": {
      "application/vnd.jupyter.widget-view+json": {
       "model_id": "10585892b1a04191a663c1473e99712b",
       "version_major": 2,
       "version_minor": 0
      },
      "text/plain": [
       "  0%|          | 0/4 [00:00<?, ?it/s]"
      ]
     },
     "metadata": {},
     "output_type": "display_data"
    },
    {
     "name": "stdout",
     "output_type": "stream",
     "text": [
      "+------+----------+\n",
      "| Y    |   phi(Y) |\n",
      "+======+==========+\n",
      "| Y(0) |   0.7240 |\n",
      "+------+----------+\n",
      "| Y(1) |   0.2760 |\n",
      "+------+----------+\n"
     ]
    },
    {
     "data": {
      "application/vnd.jupyter.widget-view+json": {
       "model_id": "e694a8db000143f8b90ebe2b0c9c1ba0",
       "version_major": 2,
       "version_minor": 0
      },
      "text/plain": [
       "  0%|          | 0/2 [00:00<?, ?it/s]"
      ]
     },
     "metadata": {},
     "output_type": "display_data"
    },
    {
     "name": "stdout",
     "output_type": "stream",
     "text": [
      "+------+----------+\n",
      "| C    |   phi(C) |\n",
      "+======+==========+\n",
      "| C(0) |   0.6000 |\n",
      "+------+----------+\n",
      "| C(1) |   0.4000 |\n",
      "+------+----------+\n"
     ]
    }
   ],
   "source": [
    "# Do operation with a specified adjustment set.\n",
    "infer = CausalInference(model)\n",
    "do_X_W = infer.query([\"Y\"], do={\"X\": 1}, adjustment_set=[\"W\"])\n",
    "print(do_X_W)\n",
    "\n",
    "do_X_Z = infer.query([\"Y\"], do={\"X\": 1}, adjustment_set=[\"Z\"])\n",
    "print(do_X_Z)\n",
    "\n",
    "do_X_WZ = infer.query([\"Y\"], do={\"X\": 1}, adjustment_set=[\"W\", \"Z\"])\n",
    "print(do_X_WZ)\n",
    "\n",
    "infer_simp = CausalInference(simp_model)\n",
    "do_simpson = infer_simp.query([\"C\"], do={\"T\": 1}, adjustment_set=[\"S\"])\n",
    "print(do_simpson)"
   ]
  },
  {
   "cell_type": "code",
   "execution_count": 8,
   "id": "98ea8930",
   "metadata": {},
   "outputs": [
    {
     "name": "stdout",
     "output_type": "stream",
     "text": [
      "+------+----------+\n",
      "| Y    |   phi(Y) |\n",
      "+======+==========+\n",
      "| Y(0) |   0.6200 |\n",
      "+------+----------+\n",
      "| Y(1) |   0.3800 |\n",
      "+------+----------+\n",
      "+------+----------+\n",
      "| Y    |   phi(Y) |\n",
      "+======+==========+\n",
      "| Y(0) |   0.6200 |\n",
      "+------+----------+\n",
      "| Y(1) |   0.3800 |\n",
      "+------+----------+\n",
      "+------+----------+\n",
      "| Y    |   phi(Y) |\n",
      "+======+==========+\n",
      "| Y(0) |   0.6200 |\n",
      "+------+----------+\n",
      "| Y(1) |   0.3800 |\n",
      "+------+----------+\n",
      "+------+----------+\n",
      "| C    |   phi(C) |\n",
      "+======+==========+\n",
      "| C(0) |   0.5500 |\n",
      "+------+----------+\n",
      "| C(1) |   0.4500 |\n",
      "+------+----------+\n"
     ]
    }
   ],
   "source": [
    "# Adjustment without do operation.\n",
    "infer = CausalInference(model)\n",
    "adj_W = infer.query([\"Y\"], adjustment_set=[\"W\"])\n",
    "print(adj_W)\n",
    "\n",
    "adj_Z = infer.query([\"Y\"], adjustment_set=[\"Z\"])\n",
    "print(adj_Z)\n",
    "\n",
    "adj_WZ = infer.query([\"Y\"], adjustment_set=[\"W\", \"Z\"])\n",
    "print(adj_WZ)\n",
    "\n",
    "infer_simp = CausalInference(simp_model)\n",
    "adj_simpson = infer_simp.query([\"C\"], adjustment_set=[\"S\"])\n",
    "print(adj_simpson)"
   ]
  }
 ],
 "metadata": {
  "kernelspec": {
   "display_name": "Python 3 (ipykernel)",
   "language": "python",
   "name": "python3"
  },
  "language_info": {
   "codemirror_mode": {
    "name": "ipython",
    "version": 3
   },
   "file_extension": ".py",
   "mimetype": "text/x-python",
   "name": "python",
   "nbconvert_exporter": "python",
   "pygments_lexer": "ipython3",
   "version": "3.13.5"
  }
 },
 "nbformat": 4,
 "nbformat_minor": 5
}
